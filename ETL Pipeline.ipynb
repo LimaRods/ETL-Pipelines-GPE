{
 "cells": [
  {
   "cell_type": "code",
   "execution_count": 19,
   "metadata": {},
   "outputs": [
    {
     "data": {
      "text/html": [
       "<style>.container { width:100% !important; }</style>"
      ],
      "text/plain": [
       "<IPython.core.display.HTML object>"
      ]
     },
     "metadata": {},
     "output_type": "display_data"
    }
   ],
   "source": [
    "import pandas as pd\n",
    "import numpy as np\n",
    "import datetime as dt\n",
    "import re\n",
    "import time\n",
    "import mysql.connector as mysql\n",
    "from IPython.core.display import display, HTML\n",
    "display(HTML(\"<style>.container { width:100% !important; }</style>\"))"
   ]
  },
  {
   "cell_type": "markdown",
   "metadata": {},
   "source": [
    "## Validating Modules"
   ]
  },
  {
   "cell_type": "markdown",
   "metadata": {},
   "source": [
    "###  Transform, Load, and Delete Applicants Data"
   ]
  },
  {
   "cell_type": "code",
   "execution_count": 12,
   "metadata": {},
   "outputs": [
    {
     "name": "stdout",
     "output_type": "stream",
     "text": [
      "The autoreload extension is already loaded. To reload it, use:\n",
      "  %reload_ext autoreload\n"
     ]
    }
   ],
   "source": [
    "%load_ext autoreload\n",
    "%autoreload 2"
   ]
  },
  {
   "cell_type": "code",
   "execution_count": 7,
   "metadata": {},
   "outputs": [],
   "source": [
    "import etl_transform as transform\n",
    "from etl_mysql_queries import MySQL_Queries\n",
    "from db_credential import *"
   ]
  },
  {
   "cell_type": "code",
   "execution_count": 3,
   "metadata": {},
   "outputs": [
    {
     "data": {
      "text/html": [
       "<div>\n",
       "<style scoped>\n",
       "    .dataframe tbody tr th:only-of-type {\n",
       "        vertical-align: middle;\n",
       "    }\n",
       "\n",
       "    .dataframe tbody tr th {\n",
       "        vertical-align: top;\n",
       "    }\n",
       "\n",
       "    .dataframe thead th {\n",
       "        text-align: right;\n",
       "    }\n",
       "</style>\n",
       "<table border=\"1\" class=\"dataframe\">\n",
       "  <thead>\n",
       "    <tr style=\"text-align: right;\">\n",
       "      <th></th>\n",
       "      <th>student_code</th>\n",
       "      <th>name</th>\n",
       "      <th>email</th>\n",
       "      <th>student_id</th>\n",
       "      <th>address</th>\n",
       "      <th>neighborhood</th>\n",
       "      <th>city</th>\n",
       "      <th>phone_number</th>\n",
       "      <th>current_status</th>\n",
       "      <th>internet_access</th>\n",
       "      <th>...</th>\n",
       "      <th>books</th>\n",
       "      <th>books_type</th>\n",
       "      <th>movie_theather</th>\n",
       "      <th>museum</th>\n",
       "      <th>additional_courses</th>\n",
       "      <th>career</th>\n",
       "      <th>study_room</th>\n",
       "      <th>computers</th>\n",
       "      <th>smartphones</th>\n",
       "      <th>parents_conversation</th>\n",
       "    </tr>\n",
       "  </thead>\n",
       "  <tbody>\n",
       "    <tr>\n",
       "      <th>0</th>\n",
       "      <td>100022</td>\n",
       "      <td>AHRON ROGERIO CANOSSA</td>\n",
       "      <td>izzymarques03@gmail.com</td>\n",
       "      <td>398382384</td>\n",
       "      <td>Av Arminio de Arruda Camargo 858</td>\n",
       "      <td>Nova Matão</td>\n",
       "      <td>Matão</td>\n",
       "      <td>(16)997967077</td>\n",
       "      <td>Sim, concordo com as informações apresentadas ...</td>\n",
       "      <td>Sim, APENAS via internet fixa/banda larga (por...</td>\n",
       "      <td>...</td>\n",
       "      <td>1 a 2</td>\n",
       "      <td>Revistas de divulgação científica, tecnológica...</td>\n",
       "      <td>Menos que 1 vez por mês</td>\n",
       "      <td>Vou 1 vez por ano</td>\n",
       "      <td>Curso de língua estrangeira - Inglês</td>\n",
       "      <td>Profissão ligada às Artes</td>\n",
       "      <td>1</td>\n",
       "      <td>2</td>\n",
       "      <td>2</td>\n",
       "      <td>Conversam sobre assuntos políticos ou sociais ...</td>\n",
       "    </tr>\n",
       "    <tr>\n",
       "      <th>1</th>\n",
       "      <td>100122</td>\n",
       "      <td>ALESSANDRA BIANCA MASSELLI</td>\n",
       "      <td>alessandramasselli427@gmail.com</td>\n",
       "      <td>637620240</td>\n",
       "      <td>Av jacyro rosa</td>\n",
       "      <td>Nova cidade</td>\n",
       "      <td>Matão</td>\n",
       "      <td>16996197764</td>\n",
       "      <td>Sim, concordo com as informações apresentadas ...</td>\n",
       "      <td>Sim, APENAS via internet fixa/banda larga (por...</td>\n",
       "      <td>...</td>\n",
       "      <td>Mais do que 4</td>\n",
       "      <td>Livros de ficção (romances, contos, poesias)</td>\n",
       "      <td>Menos que 1 vez por mês</td>\n",
       "      <td>Conheço ou visitei museus apenas por excursões...</td>\n",
       "      <td>Curso preparatório para o vestibular (cursinho)</td>\n",
       "      <td>Ainda não escolhi</td>\n",
       "      <td>1</td>\n",
       "      <td>1</td>\n",
       "      <td>2</td>\n",
       "      <td>Almoçam ou jantam com você</td>\n",
       "    </tr>\n",
       "    <tr>\n",
       "      <th>2</th>\n",
       "      <td>100222</td>\n",
       "      <td>ALISSON SCARPINATTI LEME</td>\n",
       "      <td>alissonaleme@gmail.com</td>\n",
       "      <td>591952944</td>\n",
       "      <td>Rua Catharina Barleta Moris</td>\n",
       "      <td>Monte Carlo</td>\n",
       "      <td>Matão</td>\n",
       "      <td>16994000680</td>\n",
       "      <td>Sim, concordo com as informações apresentadas ...</td>\n",
       "      <td>Sim, APENAS via internet fixa/banda larga (por...</td>\n",
       "      <td>...</td>\n",
       "      <td>Mais do que 4</td>\n",
       "      <td>Revistas sobre educação e estudos (Educação, G...</td>\n",
       "      <td>1 a 2 vezes por mês</td>\n",
       "      <td>Conheço ou visitei museus apenas por excursões...</td>\n",
       "      <td>Curso de língua estrangeira - Espanhol</td>\n",
       "      <td>Não vou seguir nenhuma profissão</td>\n",
       "      <td>1</td>\n",
       "      <td>1</td>\n",
       "      <td>3 ou mais</td>\n",
       "      <td>Apoiam a escolha de fazer um cursinho, Convers...</td>\n",
       "    </tr>\n",
       "    <tr>\n",
       "      <th>3</th>\n",
       "      <td>100322</td>\n",
       "      <td>ANA BEATRIZ VIEIRA</td>\n",
       "      <td>av996300897@gmail.com</td>\n",
       "      <td>624600713</td>\n",
       "      <td>Antônio Brocheto</td>\n",
       "      <td>Cohab Santa Rosa</td>\n",
       "      <td>Matão</td>\n",
       "      <td>16996300897</td>\n",
       "      <td>Sim, concordo com as informações apresentadas ...</td>\n",
       "      <td>Sim, APENAS via internet fixa/banda larga (por...</td>\n",
       "      <td>...</td>\n",
       "      <td>1 a 2</td>\n",
       "      <td>Revistas de informação geral (Carta Capital, V...</td>\n",
       "      <td>Menos que 1 vez por mês</td>\n",
       "      <td>Não tenho esse costume</td>\n",
       "      <td>Curso de língua estrangeira - Inglês, Curso de...</td>\n",
       "      <td>Profissão ligada às Ciências Biológicas e da S...</td>\n",
       "      <td>1</td>\n",
       "      <td>Nenhum</td>\n",
       "      <td>3 ou mais</td>\n",
       "      <td>Conversam sobre assuntos políticos ou sociais ...</td>\n",
       "    </tr>\n",
       "    <tr>\n",
       "      <th>4</th>\n",
       "      <td>100422</td>\n",
       "      <td>ANA CLARA FARIA KAWAHARA</td>\n",
       "      <td>anaclarakawahara5@gmail.com</td>\n",
       "      <td>62370402</td>\n",
       "      <td>Rua José Vieira Priosti 149</td>\n",
       "      <td>Vila Jandira</td>\n",
       "      <td>Matão</td>\n",
       "      <td>16996162944</td>\n",
       "      <td>Sim, concordo com as informações apresentadas ...</td>\n",
       "      <td>Sim, por pacote de dados E internet fixa/banda...</td>\n",
       "      <td>...</td>\n",
       "      <td>3 a 4</td>\n",
       "      <td>Livros de ficção (romances, contos, poesias)</td>\n",
       "      <td>Menos que 1 vez por mês</td>\n",
       "      <td>Conheço ou visitei museus apenas por excursões...</td>\n",
       "      <td>Curso preparatório para o vestibular (cursinho)</td>\n",
       "      <td>Profissão ligada às Ciências Biológicas e da S...</td>\n",
       "      <td>1</td>\n",
       "      <td>1</td>\n",
       "      <td>3 ou mais</td>\n",
       "      <td>Conversam sobre livros, filmes ou programas de...</td>\n",
       "    </tr>\n",
       "  </tbody>\n",
       "</table>\n",
       "<p>5 rows × 35 columns</p>\n",
       "</div>"
      ],
      "text/plain": [
       "  student_code                        name                            email  \\\n",
       "0       100022       AHRON ROGERIO CANOSSA         izzymarques03@gmail.com    \n",
       "1       100122  ALESSANDRA BIANCA MASSELLI  alessandramasselli427@gmail.com   \n",
       "2       100222    ALISSON SCARPINATTI LEME          alissonaleme@gmail.com    \n",
       "3       100322          ANA BEATRIZ VIEIRA            av996300897@gmail.com   \n",
       "4       100422    ANA CLARA FARIA KAWAHARA      anaclarakawahara5@gmail.com   \n",
       "\n",
       "  student_id                           address      neighborhood   city  \\\n",
       "0  398382384  Av Arminio de Arruda Camargo 858       Nova Matão   Matão   \n",
       "1  637620240                    Av jacyro rosa       Nova cidade  Matão   \n",
       "2  591952944       Rua Catharina Barleta Moris      Monte Carlo   Matão   \n",
       "3  624600713                  Antônio Brocheto  Cohab Santa Rosa  Matão   \n",
       "4   62370402       Rua José Vieira Priosti 149      Vila Jandira  Matão   \n",
       "\n",
       "    phone_number                                     current_status  \\\n",
       "0  (16)997967077  Sim, concordo com as informações apresentadas ...   \n",
       "1    16996197764  Sim, concordo com as informações apresentadas ...   \n",
       "2    16994000680  Sim, concordo com as informações apresentadas ...   \n",
       "3    16996300897  Sim, concordo com as informações apresentadas ...   \n",
       "4    16996162944  Sim, concordo com as informações apresentadas ...   \n",
       "\n",
       "                                     internet_access  ...          books  \\\n",
       "0  Sim, APENAS via internet fixa/banda larga (por...  ...          1 a 2   \n",
       "1  Sim, APENAS via internet fixa/banda larga (por...  ...  Mais do que 4   \n",
       "2  Sim, APENAS via internet fixa/banda larga (por...  ...  Mais do que 4   \n",
       "3  Sim, APENAS via internet fixa/banda larga (por...  ...          1 a 2   \n",
       "4  Sim, por pacote de dados E internet fixa/banda...  ...          3 a 4   \n",
       "\n",
       "                                          books_type           movie_theather  \\\n",
       "0  Revistas de divulgação científica, tecnológica...  Menos que 1 vez por mês   \n",
       "1       Livros de ficção (romances, contos, poesias)  Menos que 1 vez por mês   \n",
       "2  Revistas sobre educação e estudos (Educação, G...      1 a 2 vezes por mês   \n",
       "3  Revistas de informação geral (Carta Capital, V...  Menos que 1 vez por mês   \n",
       "4       Livros de ficção (romances, contos, poesias)  Menos que 1 vez por mês   \n",
       "\n",
       "                                              museum  \\\n",
       "0                                  Vou 1 vez por ano   \n",
       "1  Conheço ou visitei museus apenas por excursões...   \n",
       "2  Conheço ou visitei museus apenas por excursões...   \n",
       "3                             Não tenho esse costume   \n",
       "4  Conheço ou visitei museus apenas por excursões...   \n",
       "\n",
       "                                  additional_courses  \\\n",
       "0               Curso de língua estrangeira - Inglês   \n",
       "1    Curso preparatório para o vestibular (cursinho)   \n",
       "2             Curso de língua estrangeira - Espanhol   \n",
       "3  Curso de língua estrangeira - Inglês, Curso de...   \n",
       "4    Curso preparatório para o vestibular (cursinho)   \n",
       "\n",
       "                                              career study_room computers  \\\n",
       "0                          Profissão ligada às Artes          1         2   \n",
       "1                                  Ainda não escolhi          1         1   \n",
       "2                   Não vou seguir nenhuma profissão          1         1   \n",
       "3  Profissão ligada às Ciências Biológicas e da S...          1    Nenhum   \n",
       "4  Profissão ligada às Ciências Biológicas e da S...          1         1   \n",
       "\n",
       "  smartphones                               parents_conversation  \n",
       "0           2  Conversam sobre assuntos políticos ou sociais ...  \n",
       "1           2                         Almoçam ou jantam com você  \n",
       "2   3 ou mais  Apoiam a escolha de fazer um cursinho, Convers...  \n",
       "3   3 ou mais  Conversam sobre assuntos políticos ou sociais ...  \n",
       "4   3 ou mais  Conversam sobre livros, filmes ou programas de...  \n",
       "\n",
       "[5 rows x 35 columns]"
      ]
     },
     "execution_count": 3,
     "metadata": {},
     "output_type": "execute_result"
    }
   ],
   "source": [
    "new_column_names = {2:'name',\n",
    " 3:'email',\n",
    " 4:'student_id',\n",
    "6: 'address',\n",
    " 7:'neighborhood',\n",
    " 8:'city',\n",
    " 9:'phone_number',\n",
    " 10:'current_status',\n",
    " 21:'internet_access',\n",
    " 13:'highschool',\n",
    " 14:'secoundary_school',\n",
    " 15:'race',\n",
    " 16:'father_education',\n",
    " 17:'mother_education',\n",
    " 18:'tutelary_ecucation',\n",
    " 19:'avg_income_percapita',\n",
    " 22:'father_occuparion',\n",
    " 23:'mother_occupation',\n",
    " 24:'personal_occupation',\n",
    " 25:'matao_residence',\n",
    " 26:'who_living_with_you',\n",
    " 28:'age',\n",
    " 30:'vehicle',\n",
    " 31:'marital_status',\n",
    " 32:'books',\n",
    " 33:'books_type',\n",
    " 34:'movie_theather',\n",
    " 35:'museum',\n",
    " 36:'additional_courses',\n",
    " 58:'career',\n",
    " 66:'study_room',\n",
    " 67:'computers',\n",
    " 68:'smartphones',\n",
    " 69:'parents_conversation'}\n",
    "app_df = transform.transfrom_applicants_table(\"Inscrição Vestibulinho GPE 2022 (respostas).xlsx\",22, new_column_names)\n",
    "app_df.head()"
   ]
  },
  {
   "cell_type": "code",
   "execution_count": 4,
   "metadata": {},
   "outputs": [],
   "source": [
    "#Assign Class object\n",
    "applicants = MySQL_Queries(db_connection =mysql_db_config, table_name = \"Applicants\")\n"
   ]
  },
  {
   "cell_type": "code",
   "execution_count": 23,
   "metadata": {},
   "outputs": [
    {
     "name": "stdout",
     "output_type": "stream",
     "text": [
      "The query of insert values into the Applicants Table was successfully executed\n"
     ]
    }
   ],
   "source": [
    "#Load\n",
    "applicants.insert_data(app_df)"
   ]
  },
  {
   "cell_type": "code",
   "execution_count": 22,
   "metadata": {},
   "outputs": [
    {
     "name": "stdout",
     "output_type": "stream",
     "text": [
      "The query of dropping values from the Applicants Table was successfully executed\n"
     ]
    }
   ],
   "source": [
    "#Delete\n",
    "applicants.drop_data(condition = {'student_code':tuple(app_df.student_code)})"
   ]
  },
  {
   "cell_type": "markdown",
   "metadata": {},
   "source": [
    "###  Transform, Load, and Delete Students Data"
   ]
  },
  {
   "cell_type": "code",
   "execution_count": 11,
   "metadata": {},
   "outputs": [
    {
     "data": {
      "text/html": [
       "<div>\n",
       "<style scoped>\n",
       "    .dataframe tbody tr th:only-of-type {\n",
       "        vertical-align: middle;\n",
       "    }\n",
       "\n",
       "    .dataframe tbody tr th {\n",
       "        vertical-align: top;\n",
       "    }\n",
       "\n",
       "    .dataframe thead th {\n",
       "        text-align: right;\n",
       "    }\n",
       "</style>\n",
       "<table border=\"1\" class=\"dataframe\">\n",
       "  <thead>\n",
       "    <tr style=\"text-align: right;\">\n",
       "      <th></th>\n",
       "      <th>student_code</th>\n",
       "      <th>NSE</th>\n",
       "      <th>start_date</th>\n",
       "      <th>end_date</th>\n",
       "      <th>volunteer_id</th>\n",
       "    </tr>\n",
       "  </thead>\n",
       "  <tbody>\n",
       "    <tr>\n",
       "      <th>0</th>\n",
       "      <td>105522</td>\n",
       "      <td>0.3575</td>\n",
       "      <td>2022-03-01</td>\n",
       "      <td>None</td>\n",
       "      <td>None</td>\n",
       "    </tr>\n",
       "    <tr>\n",
       "      <th>1</th>\n",
       "      <td>109722</td>\n",
       "      <td>0.3575</td>\n",
       "      <td>2022-03-01</td>\n",
       "      <td>None</td>\n",
       "      <td>None</td>\n",
       "    </tr>\n",
       "    <tr>\n",
       "      <th>2</th>\n",
       "      <td>106222</td>\n",
       "      <td>0.4825</td>\n",
       "      <td>2022-03-01</td>\n",
       "      <td>None</td>\n",
       "      <td>None</td>\n",
       "    </tr>\n",
       "    <tr>\n",
       "      <th>3</th>\n",
       "      <td>111722</td>\n",
       "      <td>0.2075</td>\n",
       "      <td>2022-03-01</td>\n",
       "      <td>None</td>\n",
       "      <td>None</td>\n",
       "    </tr>\n",
       "    <tr>\n",
       "      <th>4</th>\n",
       "      <td>108422</td>\n",
       "      <td>0.7225</td>\n",
       "      <td>2022-03-01</td>\n",
       "      <td>None</td>\n",
       "      <td>None</td>\n",
       "    </tr>\n",
       "  </tbody>\n",
       "</table>\n",
       "</div>"
      ],
      "text/plain": [
       "   student_code     NSE  start_date end_date volunteer_id\n",
       "0        105522  0.3575  2022-03-01     None         None\n",
       "1        109722  0.3575  2022-03-01     None         None\n",
       "2        106222  0.4825  2022-03-01     None         None\n",
       "3        111722  0.2075  2022-03-01     None         None\n",
       "4        108422  0.7225  2022-03-01     None         None"
      ]
     },
     "execution_count": 11,
     "metadata": {},
     "output_type": "execute_result"
    }
   ],
   "source": [
    "std_df = transform.transform_students_table(\"resultado_vest2022.xlsx\")\n",
    "std_df.head()                                            "
   ]
  },
  {
   "cell_type": "code",
   "execution_count": 12,
   "metadata": {},
   "outputs": [],
   "source": [
    "#Assign Class object\n",
    "students = MySQL_Queries(db_connection =mysql_db_config, table_name = \"Students\")"
   ]
  },
  {
   "cell_type": "code",
   "execution_count": 24,
   "metadata": {},
   "outputs": [
    {
     "name": "stdout",
     "output_type": "stream",
     "text": [
      "The query of insert values into the Students Table was successfully executed\n"
     ]
    }
   ],
   "source": [
    "#Load\n",
    "students.insert_data(std_df)"
   ]
  },
  {
   "cell_type": "code",
   "execution_count": 21,
   "metadata": {},
   "outputs": [
    {
     "name": "stdout",
     "output_type": "stream",
     "text": [
      "The query of dropping values from the Students Table was successfully executed\n"
     ]
    }
   ],
   "source": [
    "#Delete\n",
    "students.drop_data(condition = {'student_code':tuple(std_df.student_code)}) #tuple(std_df.student_code)"
   ]
  },
  {
   "cell_type": "markdown",
   "metadata": {},
   "source": [
    "### Transform, Load, and Delete Exams Data"
   ]
  },
  {
   "cell_type": "code",
   "execution_count": 8,
   "metadata": {},
   "outputs": [
    {
     "data": {
      "text/html": [
       "<div>\n",
       "<style scoped>\n",
       "    .dataframe tbody tr th:only-of-type {\n",
       "        vertical-align: middle;\n",
       "    }\n",
       "\n",
       "    .dataframe tbody tr th {\n",
       "        vertical-align: top;\n",
       "    }\n",
       "\n",
       "    .dataframe thead th {\n",
       "        text-align: right;\n",
       "    }\n",
       "</style>\n",
       "<table border=\"1\" class=\"dataframe\">\n",
       "  <thead>\n",
       "    <tr style=\"text-align: right;\">\n",
       "      <th>subjects</th>\n",
       "      <th>student_code</th>\n",
       "      <th>exame_number</th>\n",
       "      <th>geography</th>\n",
       "      <th>biology</th>\n",
       "      <th>chemistry</th>\n",
       "      <th>history</th>\n",
       "      <th>math</th>\n",
       "      <th>physics</th>\n",
       "      <th>portuguese</th>\n",
       "      <th>literature</th>\n",
       "      <th>english</th>\n",
       "      <th>interdisciplinary</th>\n",
       "    </tr>\n",
       "  </thead>\n",
       "  <tbody>\n",
       "    <tr>\n",
       "      <th>15</th>\n",
       "      <td>100022</td>\n",
       "      <td>2</td>\n",
       "      <td>0.9</td>\n",
       "      <td>0.7</td>\n",
       "      <td>0.4</td>\n",
       "      <td>0.3</td>\n",
       "      <td>0.6</td>\n",
       "      <td>0.1</td>\n",
       "      <td>0.750</td>\n",
       "      <td>0.875</td>\n",
       "      <td>0.8</td>\n",
       "      <td>0.6667</td>\n",
       "    </tr>\n",
       "    <tr>\n",
       "      <th>12</th>\n",
       "      <td>100222</td>\n",
       "      <td>2</td>\n",
       "      <td>0.4</td>\n",
       "      <td>0.3</td>\n",
       "      <td>0.2</td>\n",
       "      <td>0.5</td>\n",
       "      <td>0.5</td>\n",
       "      <td>0.3</td>\n",
       "      <td>0.875</td>\n",
       "      <td>0.250</td>\n",
       "      <td>0.2</td>\n",
       "      <td>0.3333</td>\n",
       "    </tr>\n",
       "    <tr>\n",
       "      <th>26</th>\n",
       "      <td>100522</td>\n",
       "      <td>2</td>\n",
       "      <td>0.4</td>\n",
       "      <td>0.2</td>\n",
       "      <td>0.4</td>\n",
       "      <td>0.5</td>\n",
       "      <td>0.3</td>\n",
       "      <td>0.0</td>\n",
       "      <td>0.500</td>\n",
       "      <td>0.750</td>\n",
       "      <td>0.6</td>\n",
       "      <td>0.4444</td>\n",
       "    </tr>\n",
       "    <tr>\n",
       "      <th>5</th>\n",
       "      <td>101022</td>\n",
       "      <td>2</td>\n",
       "      <td>0.5</td>\n",
       "      <td>0.3</td>\n",
       "      <td>0.3</td>\n",
       "      <td>0.5</td>\n",
       "      <td>0.1</td>\n",
       "      <td>0.3</td>\n",
       "      <td>0.500</td>\n",
       "      <td>0.375</td>\n",
       "      <td>0.2</td>\n",
       "      <td>0.4444</td>\n",
       "    </tr>\n",
       "    <tr>\n",
       "      <th>34</th>\n",
       "      <td>101422</td>\n",
       "      <td>2</td>\n",
       "      <td>0.8</td>\n",
       "      <td>0.2</td>\n",
       "      <td>0.2</td>\n",
       "      <td>0.3</td>\n",
       "      <td>0.5</td>\n",
       "      <td>0.2</td>\n",
       "      <td>0.750</td>\n",
       "      <td>0.500</td>\n",
       "      <td>0.2</td>\n",
       "      <td>0.3333</td>\n",
       "    </tr>\n",
       "  </tbody>\n",
       "</table>\n",
       "</div>"
      ],
      "text/plain": [
       "subjects student_code  exame_number  geography  biology  chemistry  history  \\\n",
       "15             100022             2        0.9      0.7        0.4      0.3   \n",
       "12             100222             2        0.4      0.3        0.2      0.5   \n",
       "26             100522             2        0.4      0.2        0.4      0.5   \n",
       "5              101022             2        0.5      0.3        0.3      0.5   \n",
       "34             101422             2        0.8      0.2        0.2      0.3   \n",
       "\n",
       "subjects  math  physics  portuguese  literature  english  interdisciplinary  \n",
       "15         0.6      0.1       0.750       0.875      0.8             0.6667  \n",
       "12         0.5      0.3       0.875       0.250      0.2             0.3333  \n",
       "26         0.3      0.0       0.500       0.750      0.6             0.4444  \n",
       "5          0.1      0.3       0.500       0.375      0.2             0.4444  \n",
       "34         0.5      0.2       0.750       0.500      0.2             0.3333  "
      ]
     },
     "execution_count": 8,
     "metadata": {},
     "output_type": "execute_result"
    }
   ],
   "source": [
    "ex_df = transform.transform_exams_table(file_name = \"Correção_Simul1_2022 .xlsx\", answer_key= \"GABARITO SIM 1 2022.txt\", exame_number=2)\n",
    "ex_df.head()"
   ]
  },
  {
   "cell_type": "code",
   "execution_count": 9,
   "metadata": {},
   "outputs": [],
   "source": [
    "#Assign Class object\n",
    "exams = MySQL_Queries(db_connection =mysql_db_config, table_name = \"Exams\")\n"
   ]
  },
  {
   "cell_type": "code",
   "execution_count": 15,
   "metadata": {},
   "outputs": [
    {
     "name": "stdout",
     "output_type": "stream",
     "text": [
      "The query of inserting values into the Exams Table was successfully executed\n"
     ]
    }
   ],
   "source": [
    "#Load\n",
    "exams.insert_data(ex_df.iloc[[13,12,26,34],:])"
   ]
  },
  {
   "cell_type": "code",
   "execution_count": 14,
   "metadata": {},
   "outputs": [
    {
     "name": "stdout",
     "output_type": "stream",
     "text": [
      "The query of dropping values from the Exams Table was successfully executed\n"
     ]
    }
   ],
   "source": [
    "#Delete\n",
    "exams.drop_data(condition = {'student_code':tuple(ex_df.student_code)})"
   ]
  }
 ],
 "metadata": {
  "kernelspec": {
   "display_name": "Python 3",
   "language": "python",
   "name": "python3"
  },
  "language_info": {
   "codemirror_mode": {
    "name": "ipython",
    "version": 3
   },
   "file_extension": ".py",
   "mimetype": "text/x-python",
   "name": "python",
   "nbconvert_exporter": "python",
   "pygments_lexer": "ipython3",
   "version": "3.7.4"
  }
 },
 "nbformat": 4,
 "nbformat_minor": 2
}
